{
 "cells": [
  {
   "cell_type": "code",
   "execution_count": 1,
   "metadata": {},
   "outputs": [],
   "source": [
    "i = 0\n",
    "while i <= 10:\n",
    "    i = i + 1\n",
    "    if i > 7:\n",
    "        i = i + 2"
   ]
  },
  {
   "cell_type": "code",
   "execution_count": 2,
   "metadata": {},
   "outputs": [
    {
     "data": {
      "text/plain": [
       "13"
      ]
     },
     "execution_count": 2,
     "metadata": {},
     "output_type": "execute_result"
    }
   ],
   "source": [
    "i"
   ]
  },
  {
   "cell_type": "code",
   "execution_count": null,
   "metadata": {},
   "outputs": [],
   "source": []
  },
  {
   "cell_type": "code",
   "execution_count": 3,
   "metadata": {},
   "outputs": [
    {
     "name": "stdout",
     "output_type": "stream",
     "text": [
      "*\n",
      "**\n",
      "*\n",
      "*\n",
      "**\n",
      "*\n",
      "***\n",
      "*\n",
      "**\n",
      "***\n"
     ]
    }
   ],
   "source": [
    "i = 0\n",
    "while i < 5:\n",
    "    print('*')\n",
    "    if i % 2 == 0:\n",
    "        print('**')\n",
    "    if i > 2:\n",
    "        print('***')\n",
    "    i = i + 1"
   ]
  },
  {
   "cell_type": "code",
   "execution_count": null,
   "metadata": {},
   "outputs": [],
   "source": []
  },
  {
   "cell_type": "code",
   "execution_count": 10,
   "metadata": {},
   "outputs": [
    {
     "name": "stdin",
     "output_type": "stream",
     "text": [
      " 3\n",
      " 2\n",
      " 2\n",
      " 2\n"
     ]
    },
    {
     "name": "stdout",
     "output_type": "stream",
     "text": [
      "6\n"
     ]
    }
   ],
   "source": [
    "print(sum([int(input()) for x in range(int(input()))]))\n"
   ]
  },
  {
   "cell_type": "code",
   "execution_count": 13,
   "metadata": {},
   "outputs": [
    {
     "ename": "SyntaxError",
     "evalue": "invalid syntax (<ipython-input-13-dab01f89f708>, line 1)",
     "output_type": "error",
     "traceback": [
      "\u001b[1;36m  File \u001b[1;32m\"<ipython-input-13-dab01f89f708>\"\u001b[1;36m, line \u001b[1;32m1\u001b[0m\n\u001b[1;33m    print(sum([int(input()) if x not in [0]]))\u001b[0m\n\u001b[1;37m                                           ^\u001b[0m\n\u001b[1;31mSyntaxError\u001b[0m\u001b[1;31m:\u001b[0m invalid syntax\n"
     ]
    }
   ],
   "source": [
    "print(sum([int(input()) if x not in [0]]))"
   ]
  },
  {
   "cell_type": "code",
   "execution_count": 27,
   "metadata": {},
   "outputs": [
    {
     "name": "stdin",
     "output_type": "stream",
     "text": [
      " 2\n",
      " 3\n",
      " 0\n"
     ]
    },
    {
     "name": "stdout",
     "output_type": "stream",
     "text": [
      "5\n"
     ]
    }
   ],
   "source": [
    "def a(x):\n",
    "    if x == 0:\n",
    "        return 0\n",
    "    return int(x) + a(int(input()))\n",
    "\n",
    "print(a(int(input())))\n"
   ]
  },
  {
   "cell_type": "code",
   "execution_count": null,
   "metadata": {},
   "outputs": [],
   "source": [
    "import sys\n",
    "print(sum(int(x) for x in sys.stdin.readlines()))"
   ]
  },
  {
   "cell_type": "code",
   "execution_count": null,
   "metadata": {},
   "outputs": [],
   "source": []
  },
  {
   "cell_type": "code",
   "execution_count": 40,
   "metadata": {},
   "outputs": [
    {
     "name": "stdin",
     "output_type": "stream",
     "text": [
      " 12\n",
      " 16\n"
     ]
    },
    {
     "name": "stdout",
     "output_type": "stream",
     "text": [
      "48\n"
     ]
    }
   ],
   "source": [
    "def pyrro(a, b, i=1):\n",
    "    if a * i % b != 0:\n",
    "        return pyrro(a, b, i+1)\n",
    "    return a * i\n",
    "\n",
    "a = [int(input()) for x in range(2)]\n",
    "\n",
    "print(pyrro(a[0], a[1]))\n",
    "    "
   ]
  },
  {
   "cell_type": "code",
   "execution_count": 44,
   "metadata": {},
   "outputs": [
    {
     "name": "stdin",
     "output_type": "stream",
     "text": [
      " 12\n",
      " 16\n"
     ]
    },
    {
     "name": "stdout",
     "output_type": "stream",
     "text": [
      "48\n"
     ]
    }
   ],
   "source": [
    "def pyrro(t, i=1):\n",
    "    if t[0] * i % t[1] != 0:\n",
    "        return pyrro(t, i+1)\n",
    "    return t[0] * i\n",
    "\n",
    "print(pyrro([int(input()) for x in range(2)]))\n",
    "    "
   ]
  },
  {
   "cell_type": "code",
   "execution_count": null,
   "metadata": {},
   "outputs": [],
   "source": []
  },
  {
   "cell_type": "code",
   "execution_count": 45,
   "metadata": {},
   "outputs": [],
   "source": [
    "i = 0\n",
    "s = 0\n",
    "while i < 10:\n",
    "    i = i + 1\n",
    "    s = s + i\n",
    "    if s > 15:\n",
    "        break\n",
    "    i = i + 1"
   ]
  },
  {
   "cell_type": "code",
   "execution_count": 46,
   "metadata": {},
   "outputs": [
    {
     "data": {
      "text/plain": [
       "7"
      ]
     },
     "execution_count": 46,
     "metadata": {},
     "output_type": "execute_result"
    }
   ],
   "source": [
    "i"
   ]
  },
  {
   "cell_type": "code",
   "execution_count": 47,
   "metadata": {},
   "outputs": [],
   "source": [
    "i = 0\n",
    "s = 0\n",
    "while i < 10:\n",
    "    i = i + 1\n",
    "    s = s + i\n",
    "    if s > 15:\n",
    "        continue\n",
    "    i = i + 1"
   ]
  },
  {
   "cell_type": "code",
   "execution_count": 48,
   "metadata": {},
   "outputs": [
    {
     "data": {
      "text/plain": [
       "10"
      ]
     },
     "execution_count": 48,
     "metadata": {},
     "output_type": "execute_result"
    }
   ],
   "source": [
    "i"
   ]
  },
  {
   "cell_type": "code",
   "execution_count": null,
   "metadata": {},
   "outputs": [],
   "source": []
  },
  {
   "cell_type": "code",
   "execution_count": null,
   "metadata": {},
   "outputs": [],
   "source": [
    "while True:\n",
    "    a = int(input())\n",
    "    if a > 100:\n",
    "        break\n",
    "    else:\n",
    "        if a >= 10:\n",
    "            print(a)\n"
   ]
  },
  {
   "cell_type": "code",
   "execution_count": null,
   "metadata": {},
   "outputs": [],
   "source": []
  },
  {
   "cell_type": "code",
   "execution_count": 65,
   "metadata": {},
   "outputs": [
    {
     "name": "stdin",
     "output_type": "stream",
     "text": [
      " 1\n",
      " 3\n",
      " 2\n",
      " 4\n"
     ]
    },
    {
     "name": "stdout",
     "output_type": "stream",
     "text": [
      "\t2\t3\t4\t\n",
      "1\t2\t3\t4\t\n",
      "2\t4\t6\t8\t\n",
      "3\t6\t9\t12\t\n"
     ]
    }
   ],
   "source": [
    "a = [int(input()) for x in range(4)]\n",
    "print('\\t', end='')\n",
    "for j in range(a[2], a[3] + 1):\n",
    "    print(j, end='\\t')\n",
    "print()\n",
    "for i in range(a[0], a[1] + 1):\n",
    "    print(i, end='\\t')\n",
    "    for j in range(a[2], a[3] + 1):\n",
    "        print(j*i, end='\\t')\n",
    "    print()\n"
   ]
  },
  {
   "cell_type": "code",
   "execution_count": null,
   "metadata": {},
   "outputs": [],
   "source": [
    "a, b, c, d = (int(input()) for x in range(4))\n",
    "print('', *range(c,d+1), sep='\\t')\n",
    "for x in range(a, b+1):\n",
    "    print(x, *[y*x for y in range(c, d+1)], sep='\\t')"
   ]
  },
  {
   "cell_type": "code",
   "execution_count": null,
   "metadata": {},
   "outputs": [],
   "source": []
  },
  {
   "cell_type": "code",
   "execution_count": 76,
   "metadata": {},
   "outputs": [
    {
     "name": "stdin",
     "output_type": "stream",
     "text": [
      " -5\n",
      " 12\n"
     ]
    },
    {
     "name": "stdout",
     "output_type": "stream",
     "text": [
      "4.5\n"
     ]
    }
   ],
   "source": [
    "a, b = (int(input()) for i in range(2))\n",
    "s, k = 0, 0\n",
    "for i in range(a, b + 1):\n",
    "    if i % 3 == 0:\n",
    "        s, k = s + i, k + 1\n",
    "print(s/k)\n"
   ]
  },
  {
   "cell_type": "code",
   "execution_count": 78,
   "metadata": {},
   "outputs": [
    {
     "name": "stdin",
     "output_type": "stream",
     "text": [
      " -5\n",
      " 12\n"
     ]
    },
    {
     "name": "stdout",
     "output_type": "stream",
     "text": [
      "4.5\n"
     ]
    }
   ],
   "source": [
    "a,b = int(input()), int(input())\n",
    "a += -a%3\n",
    "b -= b%3\n",
    "print((a+b)/2)"
   ]
  },
  {
   "cell_type": "code",
   "execution_count": null,
   "metadata": {},
   "outputs": [],
   "source": [
    "x = [x for x in range(int(input()),int(input()) + 1) if x % 3 == 0]\n",
    "print(sum(x)/len(x))  "
   ]
  },
  {
   "cell_type": "code",
   "execution_count": 79,
   "metadata": {},
   "outputs": [
    {
     "name": "stdin",
     "output_type": "stream",
     "text": [
      " -5\n",
      " 12\n"
     ]
    },
    {
     "name": "stdout",
     "output_type": "stream",
     "text": [
      "4.5\n"
     ]
    }
   ],
   "source": [
    "print((((int(input())-1)//3)+1+int(input())//3)*1.5)"
   ]
  },
  {
   "cell_type": "code",
   "execution_count": null,
   "metadata": {},
   "outputs": [],
   "source": []
  },
  {
   "cell_type": "code",
   "execution_count": null,
   "metadata": {},
   "outputs": [],
   "source": []
  },
  {
   "cell_type": "code",
   "execution_count": 81,
   "metadata": {},
   "outputs": [
    {
     "name": "stdin",
     "output_type": "stream",
     "text": [
      " acggtgttat\n"
     ]
    },
    {
     "name": "stdout",
     "output_type": "stream",
     "text": [
      "40.0\n"
     ]
    }
   ],
   "source": [
    "a = input()\n",
    "t = 0\n",
    "for i in a.lower():\n",
    "    if i == 'g' or i == 'c':\n",
    "        t += 1\n",
    "print(t/len(a)*100)\n"
   ]
  },
  {
   "cell_type": "code",
   "execution_count": null,
   "metadata": {},
   "outputs": [],
   "source": [
    "s = input().upper()\n",
    "print((s.count('G') + s.count('C'))/len(s) * 100)"
   ]
  },
  {
   "cell_type": "code",
   "execution_count": null,
   "metadata": {},
   "outputs": [],
   "source": [
    "[print((n.count('c') + n.count('g')) / len(n) * 100) for n in [input().lower()]]"
   ]
  },
  {
   "cell_type": "code",
   "execution_count": null,
   "metadata": {},
   "outputs": [],
   "source": []
  },
  {
   "cell_type": "code",
   "execution_count": 84,
   "metadata": {},
   "outputs": [
    {
     "name": "stdin",
     "output_type": "stream",
     "text": [
      " aaa\n"
     ]
    },
    {
     "name": "stdout",
     "output_type": "stream",
     "text": [
      "123\n"
     ]
    }
   ],
   "source": [
    "a = input()\n",
    "if a == a[::-1]:\n",
    "    print(123)\n",
    "else:\n",
    "    print(321)\n"
   ]
  },
  {
   "cell_type": "code",
   "execution_count": null,
   "metadata": {},
   "outputs": [],
   "source": []
  },
  {
   "cell_type": "code",
   "execution_count": 85,
   "metadata": {},
   "outputs": [
    {
     "data": {
      "text/plain": [
       "'kigec'"
      ]
     },
     "execution_count": 85,
     "metadata": {},
     "output_type": "execute_result"
    }
   ],
   "source": [
    "s = 'abcdefghijk'\n",
    "s[3:6]\n",
    "s[:6]\n",
    "s[3:]\n",
    "s[::-1]\n",
    "s[-3:]\n",
    "s[:-6]\n",
    "s[-1:-10:-2]"
   ]
  },
  {
   "cell_type": "code",
   "execution_count": null,
   "metadata": {},
   "outputs": [],
   "source": []
  },
  {
   "cell_type": "code",
   "execution_count": 100,
   "metadata": {},
   "outputs": [],
   "source": []
  },
  {
   "cell_type": "code",
   "execution_count": 109,
   "metadata": {},
   "outputs": [
    {
     "name": "stdin",
     "output_type": "stream",
     "text": [
      " aaaaabbbvvv\n"
     ]
    },
    {
     "name": "stdout",
     "output_type": "stream",
     "text": [
      "a5b3v3\n"
     ]
    }
   ],
   "source": [
    "a = input() + '1'\n",
    "k = 1\n",
    "i = 0\n",
    "ans = ''\n",
    "while i < len(a) - 1:\n",
    "    if a[i] == a[i + 1]:\n",
    "        k += 1\n",
    "    else:\n",
    "        ans += a[i] + str(k)\n",
    "        k = 1\n",
    "    i += 1\n",
    "print(ans)\n"
   ]
  },
  {
   "cell_type": "code",
   "execution_count": 110,
   "metadata": {},
   "outputs": [
    {
     "name": "stdin",
     "output_type": "stream",
     "text": [
      " aaaabbbbvv\n"
     ]
    },
    {
     "name": "stdout",
     "output_type": "stream",
     "text": [
      "a4b4v2\n"
     ]
    }
   ],
   "source": [
    "import itertools\n",
    "print(\"\".join([k+str(len(list(g))) for k, g in itertools.groupby(input())]))"
   ]
  },
  {
   "cell_type": "code",
   "execution_count": null,
   "metadata": {},
   "outputs": [],
   "source": []
  },
  {
   "cell_type": "code",
   "execution_count": 111,
   "metadata": {},
   "outputs": [],
   "source": [
    "students = ['Ivan', 'Masha', 'Sasha']\n",
    "students += ['Olga']\n",
    "students += 'Olga'"
   ]
  },
  {
   "cell_type": "code",
   "execution_count": 112,
   "metadata": {},
   "outputs": [
    {
     "data": {
      "text/plain": [
       "['Ivan', 'Masha', 'Sasha', 'Olga', 'O', 'l', 'g', 'a']"
      ]
     },
     "execution_count": 112,
     "metadata": {},
     "output_type": "execute_result"
    }
   ],
   "source": [
    "students"
   ]
  },
  {
   "cell_type": "code",
   "execution_count": null,
   "metadata": {},
   "outputs": [],
   "source": []
  },
  {
   "cell_type": "code",
   "execution_count": 113,
   "metadata": {},
   "outputs": [
    {
     "name": "stdout",
     "output_type": "stream",
     "text": [
      "[1, 2, 3]\n",
      "[1, 10, 3]\n",
      "[20, 10, 3]\n",
      "[20, 10, 3]\n"
     ]
    }
   ],
   "source": [
    "a = [1, 2, 3]\n",
    "b = a\n",
    "# значения списка b?\n",
    "print(b)\n",
    "\n",
    "a[1] = 10\n",
    "# значения списка b?\n",
    "print(b)\n",
    "\n",
    "b[0] = 20\n",
    "# значения списка a?\n",
    "print(a)\n",
    "\n",
    "a = [5, 6]\n",
    "# значения списка b?\n",
    "print(b)"
   ]
  },
  {
   "cell_type": "code",
   "execution_count": null,
   "metadata": {},
   "outputs": [],
   "source": []
  },
  {
   "cell_type": "code",
   "execution_count": 114,
   "metadata": {},
   "outputs": [
    {
     "name": "stdin",
     "output_type": "stream",
     "text": [
      " 4 -1 9 3\n"
     ]
    },
    {
     "name": "stdout",
     "output_type": "stream",
     "text": [
      "15\n"
     ]
    }
   ],
   "source": [
    "print(sum(list(map(int, input().split()))))\n"
   ]
  },
  {
   "cell_type": "code",
   "execution_count": null,
   "metadata": {},
   "outputs": [],
   "source": [
    "print(eval(input().replace(' ','+')))"
   ]
  },
  {
   "cell_type": "code",
   "execution_count": null,
   "metadata": {},
   "outputs": [],
   "source": []
  },
  {
   "cell_type": "code",
   "execution_count": null,
   "metadata": {},
   "outputs": [],
   "source": [
    "a = list(map(int, input().split()))\n"
   ]
  },
  {
   "cell_type": "code",
   "execution_count": null,
   "metadata": {},
   "outputs": [],
   "source": []
  },
  {
   "cell_type": "code",
   "execution_count": 117,
   "metadata": {},
   "outputs": [
    {
     "name": "stdin",
     "output_type": "stream",
     "text": [
      " 1 3 5 6 10\n"
     ]
    },
    {
     "name": "stdout",
     "output_type": "stream",
     "text": [
      "13 6 9 15 7 "
     ]
    }
   ],
   "source": [
    "a = list(map(int, input().split()))\n",
    "if len(a) == 1:\n",
    "    print(a[0])\n",
    "else:\n",
    "    a = [a[-1]] + a + [a[0]]\n",
    "    i = 1\n",
    "    while i < len(a) - 1:\n",
    "        print(a[i - 1] + a[i + 1], end=' ')\n",
    "        i += 1\n"
   ]
  },
  {
   "cell_type": "code",
   "execution_count": null,
   "metadata": {},
   "outputs": [],
   "source": [
    "src = [int(i) for i in input().split()]\n",
    "if len(src) == 1:\n",
    "    print(src[0])\n",
    "else:\n",
    "    [print( src[i-1] + src[(i+1) % len(src)] ,end=' ') for i in range(len(src))]"
   ]
  },
  {
   "cell_type": "code",
   "execution_count": null,
   "metadata": {},
   "outputs": [],
   "source": [
    "a=[int(i) for i in input().split()]\n",
    "if len(a)>1:\n",
    "    for i in range(len(a)):\n",
    "        print(a[i-1]+a[i+1-len(a)])\n",
    "else:\n",
    "    print(a[0])"
   ]
  },
  {
   "cell_type": "code",
   "execution_count": null,
   "metadata": {},
   "outputs": [],
   "source": []
  },
  {
   "cell_type": "code",
   "execution_count": 122,
   "metadata": {},
   "outputs": [
    {
     "name": "stdin",
     "output_type": "stream",
     "text": [
      " 4 8 0 3 4 2 0 3\n"
     ]
    },
    {
     "name": "stdout",
     "output_type": "stream",
     "text": [
      "0 3 4 "
     ]
    }
   ],
   "source": [
    "d = {}\n",
    "for i in list(map(int, input().split())):\n",
    "    d[i] = d.get(i, 0) + 1\n",
    "for j in sorted(d):\n",
    "    if d[j] > 1:\n",
    "        print(j, end=' ')\n"
   ]
  },
  {
   "cell_type": "code",
   "execution_count": null,
   "metadata": {},
   "outputs": [],
   "source": [
    "ls = [int(i) for i in input().split()]\n",
    "for i in set(ls):\n",
    "    if ls.count(i) > 1:\n",
    "        print(i, end=' ')"
   ]
  },
  {
   "cell_type": "code",
   "execution_count": null,
   "metadata": {},
   "outputs": [],
   "source": [
    "s = input().split()\n",
    "print (*(i for i in set(s) if s.count(i) > 1))"
   ]
  },
  {
   "cell_type": "code",
   "execution_count": null,
   "metadata": {},
   "outputs": [],
   "source": [
    "a=input().split()\n",
    "[a.remove(i) for i in set(a)]\n",
    "print(*set(a))"
   ]
  },
  {
   "cell_type": "code",
   "execution_count": null,
   "metadata": {},
   "outputs": [],
   "source": []
  },
  {
   "cell_type": "markdown",
   "metadata": {},
   "source": [
    "#### Двумерные списки"
   ]
  },
  {
   "cell_type": "code",
   "execution_count": 123,
   "metadata": {},
   "outputs": [],
   "source": [
    "a = [[0] * 3] * 3 "
   ]
  },
  {
   "cell_type": "code",
   "execution_count": 125,
   "metadata": {},
   "outputs": [],
   "source": [
    "a[0][0] = 5"
   ]
  },
  {
   "cell_type": "code",
   "execution_count": 126,
   "metadata": {},
   "outputs": [
    {
     "data": {
      "text/plain": [
       "[[5, 0, 0], [5, 0, 0], [5, 0, 0]]"
      ]
     },
     "execution_count": 126,
     "metadata": {},
     "output_type": "execute_result"
    }
   ],
   "source": [
    "a"
   ]
  },
  {
   "cell_type": "code",
   "execution_count": 127,
   "metadata": {},
   "outputs": [],
   "source": [
    "b = [[0] * 3 for i in range(3)]"
   ]
  },
  {
   "cell_type": "code",
   "execution_count": 128,
   "metadata": {},
   "outputs": [],
   "source": [
    "c = [[0 for j in range(3)] for i in range(3)]"
   ]
  },
  {
   "cell_type": "code",
   "execution_count": 131,
   "metadata": {},
   "outputs": [],
   "source": [
    "b[0][0] = 5"
   ]
  },
  {
   "cell_type": "code",
   "execution_count": 132,
   "metadata": {},
   "outputs": [
    {
     "data": {
      "text/plain": [
       "[[5, 0, 0], [0, 0, 0], [0, 0, 0]]"
      ]
     },
     "execution_count": 132,
     "metadata": {},
     "output_type": "execute_result"
    }
   ],
   "source": [
    "b"
   ]
  },
  {
   "cell_type": "code",
   "execution_count": null,
   "metadata": {},
   "outputs": [],
   "source": []
  },
  {
   "cell_type": "code",
   "execution_count": null,
   "metadata": {},
   "outputs": [],
   "source": []
  },
  {
   "cell_type": "code",
   "execution_count": 133,
   "metadata": {},
   "outputs": [
    {
     "name": "stdin",
     "output_type": "stream",
     "text": [
      " 1\n",
      " -3\n",
      " 5\n",
      " -6\n",
      " -10\n",
      " 13\n"
     ]
    },
    {
     "name": "stdout",
     "output_type": "stream",
     "text": [
      "340\n"
     ]
    }
   ],
   "source": [
    "s = 0\n",
    "s2 = 0\n",
    "while True:\n",
    "    a = int(input())\n",
    "    s2 += a ** 2\n",
    "    s += a\n",
    "    if s == 0:\n",
    "        break\n",
    "print(s2)\n"
   ]
  },
  {
   "cell_type": "code",
   "execution_count": null,
   "metadata": {},
   "outputs": [],
   "source": [
    "s=[int(input())]\n",
    "while sum(s)!=0: s.append(int(input()))\n",
    "print(sum([i**2 for i in s]))"
   ]
  },
  {
   "cell_type": "code",
   "execution_count": null,
   "metadata": {},
   "outputs": [],
   "source": []
  },
  {
   "cell_type": "code",
   "execution_count": 140,
   "metadata": {},
   "outputs": [
    {
     "name": "stdin",
     "output_type": "stream",
     "text": [
      " 7\n"
     ]
    },
    {
     "name": "stdout",
     "output_type": "stream",
     "text": [
      "1 2 2 3 3 3 4 "
     ]
    }
   ],
   "source": [
    "n = 1\n",
    "i = int(input())\n",
    "j = 1\n",
    "k = 0\n",
    "temp = j\n",
    "temp2 = i\n",
    "while i > 0:\n",
    "    while j > 0:\n",
    "        print(temp, end=' ')\n",
    "        j -= 1\n",
    "        k += 1\n",
    "        if k > temp2 - 1:\n",
    "            break\n",
    "    if k > temp2 - 1:\n",
    "            break\n",
    "    temp += 1\n",
    "    j = temp\n",
    "    i -= 1\n"
   ]
  },
  {
   "cell_type": "code",
   "execution_count": null,
   "metadata": {},
   "outputs": [],
   "source": [
    "n = int(input())\n",
    "a = []\n",
    "i = 0\n",
    "while len(a) < n:\n",
    "    a += [i] * i\n",
    "    i += 1\n",
    "print(*a[:n])"
   ]
  },
  {
   "cell_type": "code",
   "execution_count": null,
   "metadata": {},
   "outputs": [],
   "source": [
    "import math\n",
    "x = int(input())\n",
    "print(*[int( 1/2 + math.sqrt(2 * n) ) for n in range(1, x + 1)])"
   ]
  },
  {
   "cell_type": "code",
   "execution_count": null,
   "metadata": {},
   "outputs": [],
   "source": [
    "n=int(input())\n",
    "print(*[i for i in range(1,n+1) for j in range(i)][:n])"
   ]
  },
  {
   "cell_type": "code",
   "execution_count": null,
   "metadata": {},
   "outputs": [],
   "source": [
    "print(*(lambda n: (\"\".join((str(x) + \" \") * x for x in range(1, n + 1))).split()[:n])(int(input())))"
   ]
  },
  {
   "cell_type": "code",
   "execution_count": null,
   "metadata": {},
   "outputs": [],
   "source": []
  },
  {
   "cell_type": "code",
   "execution_count": 151,
   "metadata": {},
   "outputs": [
    {
     "name": "stdin",
     "output_type": "stream",
     "text": [
      " 5 8 2 7 8 8 2 4\n",
      " 8\n"
     ]
    },
    {
     "name": "stdout",
     "output_type": "stream",
     "text": [
      "1 4 5 "
     ]
    }
   ],
   "source": [
    "a = list(input().split())\n",
    "x = input()\n",
    "k = 0\n",
    "if a.count(x) == 0:\n",
    "    print('Отсутствует')\n",
    "else:\n",
    "    while k < len(a):\n",
    "        try:\n",
    "            k = a.index(x, k)\n",
    "        except:\n",
    "            break\n",
    "        print(k, end=' ')\n",
    "        k += 1\n"
   ]
  },
  {
   "cell_type": "code",
   "execution_count": null,
   "metadata": {},
   "outputs": [],
   "source": []
  },
  {
   "cell_type": "code",
   "execution_count": 154,
   "metadata": {},
   "outputs": [
    {
     "name": "stdin",
     "output_type": "stream",
     "text": [
      " 1 2 3 4\n",
      " 0\n"
     ]
    },
    {
     "name": "stdout",
     "output_type": "stream",
     "text": [
      "Отсутствует\n"
     ]
    }
   ],
   "source": [
    "a = list(input().split())\n",
    "x = input()\n",
    "for i in range(len(a)):\n",
    "    if a[i] == x:\n",
    "        print(i, end=' ')\n",
    "if x not in a:\n",
    "    print('Отсутствует')\n"
   ]
  },
  {
   "cell_type": "code",
   "execution_count": null,
   "metadata": {},
   "outputs": [],
   "source": []
  },
  {
   "cell_type": "code",
   "execution_count": 164,
   "metadata": {},
   "outputs": [
    {
     "name": "stdin",
     "output_type": "stream",
     "text": [
      " 9 5 3\n",
      " 0 7 -1\n",
      " -5 2 9\n",
      " end\n"
     ]
    },
    {
     "name": "stdout",
     "output_type": "stream",
     "text": [
      "3 21 22 \n",
      "10 6 19 \n",
      "20 16 -1 \n"
     ]
    }
   ],
   "source": [
    "a = []\n",
    "while True:\n",
    "    temp = input()\n",
    "    if temp == 'end':\n",
    "        break\n",
    "    a.append(list(map(int, temp.split())))\n",
    "for i in range(len(a)):\n",
    "    for j in range(len(a[i])):\n",
    "        temp = a[i-1][j]+a[i][j-1]\n",
    "        if i+1 > len(a) - 1:\n",
    "            temp += a[0][j]\n",
    "        else:\n",
    "            temp += a[i+1][j]\n",
    "        if j+1 > len(a[i]) - 1:\n",
    "            temp += a[i][0]\n",
    "        else:\n",
    "            temp += a[i][j+1]\n",
    "        #print(a[i-1][j]+a[i+1][j]+a[i][j-1]+a[i][j+1], end=' ')\n",
    "        print(temp, end=' ')\n",
    "    print()\n"
   ]
  },
  {
   "cell_type": "code",
   "execution_count": 165,
   "metadata": {},
   "outputs": [
    {
     "name": "stdin",
     "output_type": "stream",
     "text": [
      " 1\n",
      " end\n"
     ]
    },
    {
     "name": "stdout",
     "output_type": "stream",
     "text": [
      "4 \n"
     ]
    }
   ],
   "source": [
    "c = []\n",
    "while True:\n",
    "    a = [i for i in input().split()]\n",
    "    if a == ['end']:\n",
    "        break\n",
    "    c.append(a)\n",
    "n, m = len(c), len(c[0])\n",
    "for i in range(n):\n",
    "    for j in range(m):\n",
    "        x = int(c[i][j-1]) + int(c[i][j+1-m]) + int(c[i-1][j]) + int(c[i+1-n][j])\n",
    "        print(x, end=' ')\n",
    "    print()"
   ]
  },
  {
   "cell_type": "code",
   "execution_count": null,
   "metadata": {},
   "outputs": [],
   "source": []
  },
  {
   "cell_type": "code",
   "execution_count": 373,
   "metadata": {},
   "outputs": [
    {
     "name": "stdin",
     "output_type": "stream",
     "text": [
      " 5\n"
     ]
    },
    {
     "name": "stdout",
     "output_type": "stream",
     "text": [
      "y - 1 x - 1 17 1\n"
     ]
    }
   ],
   "source": [
    "n = int(input())\n",
    "c = [[0 for j in range(n)] for i in range(n)]\n",
    "x, y = 0, 0\n",
    "k = 1\n",
    "z = 0\n",
    "z2 = 1\n",
    "while k <= (n ** 2):\n",
    "    while x < n:\n",
    "        c[y][x] = k\n",
    "        x += 1\n",
    "        k += 1\n",
    "    #\n",
    "    if k == n**2:\n",
    "            break  \n",
    "    #\n",
    "    k -= 1\n",
    "    x -= z2\n",
    "    #\n",
    "    while y < n:\n",
    "        c[y][x] = k\n",
    "        k += 1\n",
    "        y += 1\n",
    "    #\n",
    "    if k == n**2:\n",
    "            break   \n",
    "    #\n",
    "    k -= 1\n",
    "    y -= z2\n",
    "    #\n",
    "    #print(x, y)    \n",
    "    while x >= 0:\n",
    "        c[y][x] = k\n",
    "        x -= 1\n",
    "        k += 1\n",
    "    #\n",
    "    if k == n**2:\n",
    "            break \n",
    "    #\n",
    "    k -= 1\n",
    "    x += z2\n",
    "    z += 1\n",
    "    #\n",
    "    while y >= z:\n",
    "        c[y][x] = k\n",
    "        y -= 1\n",
    "        k += 1\n",
    "    \n",
    "    y = z\n",
    "    x = z\n",
    "    z2 += 1\n",
    "    #\n",
    "    \n",
    "    print('y - ' + str(y), 'x - ' + str(y), k, z)  \n",
    "    \n",
    "    if k == n**2:\n",
    "        if n % 2 == 1:\n",
    "            c[n//2][n//2] = n ** 2\n",
    "        break\n",
    "    else:\n",
    "        c[y][x] = k\n",
    "        break\n",
    "    #k += 1000\n",
    "    \n",
    "\n",
    "        \n",
    "        "
   ]
  },
  {
   "cell_type": "code",
   "execution_count": 374,
   "metadata": {},
   "outputs": [
    {
     "name": "stdout",
     "output_type": "stream",
     "text": [
      "1 2 3 4 5 \n",
      "16 17 0 0 6 \n",
      "15 0 0 0 7 \n",
      "14 0 0 0 8 \n",
      "13 12 11 10 9 \n"
     ]
    }
   ],
   "source": [
    "for row in c:\n",
    "    for val in row:\n",
    "        print(val, end=' ')\n",
    "    print()"
   ]
  },
  {
   "cell_type": "code",
   "execution_count": null,
   "metadata": {},
   "outputs": [],
   "source": []
  },
  {
   "cell_type": "code",
   "execution_count": 540,
   "metadata": {},
   "outputs": [
    {
     "name": "stdin",
     "output_type": "stream",
     "text": [
      " 6\n"
     ]
    },
    {
     "name": "stdout",
     "output_type": "stream",
     "text": [
      "x-0 y-4 a-4 n-6\n",
      "x-0 y-0 a-4 n-6\n",
      "x-1 y-3 a-3 n-6\n",
      "x-1 y-1 a-3 n-6\n",
      "x-2 y-2 a-2 n-6\n",
      "x-2 y-2 a-2 n-6\n",
      "x-3 y-2 a-1 n-6\n",
      "x-3 y-2 a-1 n-6\n",
      "x-4 y-2 a-0 n-6\n",
      "x-4 y-2 a-0 n-6\n"
     ]
    }
   ],
   "source": [
    "n = int(input())\n",
    "c = [[0 for j in range(n)] for i in range(n)]\n",
    "x, y = 0, 0\n",
    "k = 0\n",
    "a = n - 1\n",
    "z = 0\n",
    "\n",
    "while x < n:\n",
    "    k += 1\n",
    "    c[y][x] = k\n",
    "    x += 1\n",
    "x -= 1\n",
    "k -= 1\n",
    "\n",
    "while a > 0:\n",
    "    while y <= a:\n",
    "        k += 1\n",
    "        c[y][x] = k\n",
    "        \n",
    "        y += 1\n",
    "        if k >= n * n:\n",
    "            break\n",
    "    y -= 1\n",
    "    k -= 1\n",
    "    \n",
    "    while x >= z: # z = 0 #1\n",
    "        k += 1\n",
    "        c[y][x] = k\n",
    "        x -= 1\n",
    "        if k >= n * n:\n",
    "            break\n",
    "        \n",
    "    x += 1\n",
    "    y -= 1\n",
    "    a -= 1\n",
    "    \n",
    "    #print('x-'+ str(x), 'y-' + str(y), 'a-'+ str(a), 'n-'+str(n))\n",
    "    \n",
    "    while y >= n - a - 1:\n",
    "        k += 1\n",
    "        c[y][x] = k\n",
    "        y -= 1\n",
    "        if k >= n * n:\n",
    "            break\n",
    "        \n",
    "    \n",
    "    #print('x-'+ str(x), 'y-' + str(y), 'a-'+ str(a), 'n-'+str(n))\n",
    "    \n",
    "    x += 1\n",
    "    y += 1\n",
    "    \n",
    "    while x <= a:\n",
    "        k += 1\n",
    "        c[y][x] = k\n",
    "        x += 1\n",
    "        if k >= n * n:\n",
    "            break\n",
    "    x -= 1    \n",
    "    y += 1\n",
    "    z += 1\n",
    "    #k -= 1\n",
    "    #k += 100\n",
    "    #a -= 100\n",
    "    \n",
    "for row in c:\n",
    "    for val in row:\n",
    "        print(val, end=' ')\n",
    "    print()"
   ]
  },
  {
   "cell_type": "code",
   "execution_count": 541,
   "metadata": {},
   "outputs": [
    {
     "name": "stdout",
     "output_type": "stream",
     "text": [
      "1 2 3 4 5 6 \n",
      "20 21 22 23 24 7 \n",
      "19 32 33 34 25 8 \n",
      "18 31 36 35 26 9 \n",
      "17 30 29 28 27 10 \n",
      "16 15 14 13 12 11 \n"
     ]
    }
   ],
   "source": [
    "for row in c:\n",
    "    for val in row:\n",
    "        print(val, end=' ')\n",
    "    print()"
   ]
  },
  {
   "cell_type": "code",
   "execution_count": 438,
   "metadata": {},
   "outputs": [
    {
     "data": {
      "text/plain": [
       "0"
      ]
     },
     "execution_count": 438,
     "metadata": {},
     "output_type": "execute_result"
    }
   ],
   "source": [
    "x"
   ]
  },
  {
   "cell_type": "code",
   "execution_count": null,
   "metadata": {},
   "outputs": [],
   "source": [
    "n=int(input())\n",
    "t=[[0]*n for i in range (n)]\n",
    "i,j=0,0\n",
    "for k in range(1, n*n+1):\n",
    "  t[i][j]=k\n",
    "  if k==n*n: break\n",
    "  if i<=j+1 and i+j<n-1: j+=1\n",
    "  elif i<j and i+j>=n-1: i+=1\n",
    "  elif i>=j and i+j>n-1: j-=1\n",
    "  elif i>j+1 and i+j<=n-1: i-=1\n",
    "for i in range(n):\n",
    "  print(*t[i])"
   ]
  },
  {
   "cell_type": "code",
   "execution_count": null,
   "metadata": {},
   "outputs": [],
   "source": []
  },
  {
   "cell_type": "code",
   "execution_count": null,
   "metadata": {},
   "outputs": [],
   "source": []
  },
  {
   "cell_type": "code",
   "execution_count": null,
   "metadata": {},
   "outputs": [],
   "source": []
  },
  {
   "cell_type": "code",
   "execution_count": null,
   "metadata": {},
   "outputs": [],
   "source": []
  }
 ],
 "metadata": {
  "kernelspec": {
   "display_name": "Python 3",
   "language": "python",
   "name": "python3"
  },
  "language_info": {
   "codemirror_mode": {
    "name": "ipython",
    "version": 3
   },
   "file_extension": ".py",
   "mimetype": "text/x-python",
   "name": "python",
   "nbconvert_exporter": "python",
   "pygments_lexer": "ipython3",
   "version": "3.7.3"
  }
 },
 "nbformat": 4,
 "nbformat_minor": 2
}
