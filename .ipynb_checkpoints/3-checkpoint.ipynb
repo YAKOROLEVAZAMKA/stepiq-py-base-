{
 "cells": [
  {
   "cell_type": "code",
   "execution_count": 1,
   "metadata": {},
   "outputs": [],
   "source": [
    "def f(n):\n",
    "    return n * 10 + 5"
   ]
  },
  {
   "cell_type": "code",
   "execution_count": 2,
   "metadata": {},
   "outputs": [
    {
     "data": {
      "text/plain": [
       "10555"
      ]
     },
     "execution_count": 2,
     "metadata": {},
     "output_type": "execute_result"
    }
   ],
   "source": [
    "f(f(f(10)))"
   ]
  },
  {
   "cell_type": "code",
   "execution_count": null,
   "metadata": {},
   "outputs": [],
   "source": []
  },
  {
   "cell_type": "code",
   "execution_count": null,
   "metadata": {},
   "outputs": [],
   "source": [
    "def f(x):\n",
    "    if x <= -2:\n",
    "        return 1 - (x + 2) ** 2\n",
    "    elif  -2 < x <= 2:\n",
    "        return -x/2\n",
    "    else:\n",
    "        return (x - 2) ** 2 + 1\n"
   ]
  },
  {
   "cell_type": "code",
   "execution_count": null,
   "metadata": {},
   "outputs": [],
   "source": [
    "def f(x):\n",
    "    return float(x<-2 and 1-(x+2)**2 or 2<x and (x-2)**2+1 or -2<=x<=2 and -x/2)"
   ]
  },
  {
   "cell_type": "code",
   "execution_count": null,
   "metadata": {},
   "outputs": [],
   "source": [
    "def f(x):\n",
    "    return {\n",
    "        x <= -2:      1 - (x + 2) ** 2,\n",
    "        -2 < x <= 2:  -x / 2,\n",
    "        2 < x:        (x - 2) ** 2 + 1\n",
    "    }[True]"
   ]
  },
  {
   "cell_type": "code",
   "execution_count": null,
   "metadata": {},
   "outputs": [],
   "source": []
  },
  {
   "cell_type": "code",
   "execution_count": null,
   "metadata": {},
   "outputs": [],
   "source": []
  },
  {
   "cell_type": "code",
   "execution_count": 16,
   "metadata": {},
   "outputs": [],
   "source": [
    "def modify_list(l):\n",
    "    x = 0\n",
    "    while x < len(l):\n",
    "        if l[x] % 2 == 1:\n",
    "            l.pop(x)\n",
    "        else:\n",
    "            l[x] = l[x] // 2\n",
    "            x += 1\n"
   ]
  },
  {
   "cell_type": "code",
   "execution_count": null,
   "metadata": {},
   "outputs": [],
   "source": [
    "def modify_list(l):\n",
    "    l[:] = [i//2 for i in l if not i % 2]"
   ]
  },
  {
   "cell_type": "code",
   "execution_count": null,
   "metadata": {},
   "outputs": [],
   "source": []
  },
  {
   "cell_type": "code",
   "execution_count": null,
   "metadata": {},
   "outputs": [],
   "source": []
  },
  {
   "cell_type": "code",
   "execution_count": 53,
   "metadata": {},
   "outputs": [],
   "source": [
    "def update_dictionary(d, key, value):\n",
    "    if key in d:\n",
    "        d[key] = d[key] + [value]\n",
    "    elif 2 * key in d:\n",
    "        d[2 * key] = d[2 * key] + [value]\n",
    "    else:\n",
    "        d[2 * key] = [value]\n"
   ]
  },
  {
   "cell_type": "code",
   "execution_count": 54,
   "metadata": {},
   "outputs": [],
   "source": [
    "d = {}"
   ]
  },
  {
   "cell_type": "code",
   "execution_count": 61,
   "metadata": {},
   "outputs": [],
   "source": [
    "update_dictionary(d, 1, -1)"
   ]
  },
  {
   "cell_type": "code",
   "execution_count": 62,
   "metadata": {},
   "outputs": [
    {
     "data": {
      "text/plain": [
       "{2: [-1, -1, -1, -1]}"
      ]
     },
     "execution_count": 62,
     "metadata": {},
     "output_type": "execute_result"
    }
   ],
   "source": [
    "d"
   ]
  },
  {
   "cell_type": "code",
   "execution_count": null,
   "metadata": {},
   "outputs": [],
   "source": [
    "def update_dictionary(d, key, value):\n",
    "    key += key * (key not in d)\n",
    "    d[key] = d.get(key, []) + [value]"
   ]
  },
  {
   "cell_type": "code",
   "execution_count": null,
   "metadata": {},
   "outputs": [],
   "source": []
  },
  {
   "cell_type": "code",
   "execution_count": 69,
   "metadata": {},
   "outputs": [
    {
     "name": "stdin",
     "output_type": "stream",
     "text": [
      " aA Aa aa bb cc bb\n"
     ]
    },
    {
     "name": "stdout",
     "output_type": "stream",
     "text": [
      "aa 3\n",
      "bb 2\n",
      "cc 1\n"
     ]
    }
   ],
   "source": [
    "d = dict()\n",
    "for i in input().split():\n",
    "    d[i.lower()] = d.get(i.lower(), 0) + 1\n",
    "for j in sorted(d):\n",
    "    print(j, d[j])\n"
   ]
  },
  {
   "cell_type": "code",
   "execution_count": null,
   "metadata": {},
   "outputs": [],
   "source": [
    "s = input().lower().split()\n",
    "for i in set(s):\n",
    "    print(i, s.count(i))"
   ]
  },
  {
   "cell_type": "code",
   "execution_count": null,
   "metadata": {},
   "outputs": [],
   "source": [
    "w = input().lower().split()\n",
    "print(*['%s %s' %(x, w.count(x)) for x in set(w)], sep='\\n')"
   ]
  },
  {
   "cell_type": "code",
   "execution_count": null,
   "metadata": {},
   "outputs": [],
   "source": []
  },
  {
   "cell_type": "code",
   "execution_count": 71,
   "metadata": {},
   "outputs": [
    {
     "name": "stdin",
     "output_type": "stream",
     "text": [
      " 3\n",
      " 2\n",
      " 3\n",
      " 2\n"
     ]
    },
    {
     "name": "stdout",
     "output_type": "stream",
     "text": [
      "25\n",
      "35\n",
      "25\n"
     ]
    }
   ],
   "source": [
    "d = dict()\n",
    "for i in range(int(input())):\n",
    "    temp = int(input())\n",
    "    if temp in d:\n",
    "        print(d[temp])\n",
    "    else:\n",
    "        d[temp] = f(temp)\n",
    "        print(d[temp])\n"
   ]
  },
  {
   "cell_type": "code",
   "execution_count": null,
   "metadata": {},
   "outputs": [],
   "source": [
    "x = [int(input()) for i in range(int(input()))]\n",
    "b = {x : f(x) for x in set(x)}\n",
    "print (*[b[i] for i in x], sep='\\n')"
   ]
  },
  {
   "cell_type": "code",
   "execution_count": null,
   "metadata": {},
   "outputs": [],
   "source": []
  },
  {
   "cell_type": "code",
   "execution_count": 137,
   "metadata": {},
   "outputs": [],
   "source": [
    "f = open('dataset_3363_2.txt', 'r')\n",
    "a = ''\n",
    "for line in f:\n",
    "    a = line.strip()\n",
    "f.close()\n",
    "b = ''\n",
    "i = 0\n",
    "temp = 0\n",
    "tempa = ''\n",
    "\n",
    "while i < (len(a)):\n",
    "    if a[i].isalpha():\n",
    "        \n",
    "        if temp != 0:\n",
    "            b += tempa * int(temp)\n",
    "            #print(tempa, temp)\n",
    "        temp = ''\n",
    "        tempa = a[i]\n",
    "    if a[i].isdigit():\n",
    "        temp += a[i] \n",
    "        \n",
    "    i += 1\n",
    "b += tempa * int(temp)\n",
    "\n",
    "f = open('output.txt', 'w')\n",
    "f.write(b)\n",
    "f.close()"
   ]
  },
  {
   "cell_type": "code",
   "execution_count": 138,
   "metadata": {},
   "outputs": [
    {
     "data": {
      "text/plain": [
       "'k9E17S10e13A12N16D20v16r20C12B12i19g1I13D14F12A7c19p14w3I19y4t9o19p11W9a7r15J5t2z11K11W5j5i16b3F15k4E17V10a1s1H10w12U8P20'"
      ]
     },
     "execution_count": 138,
     "metadata": {},
     "output_type": "execute_result"
    }
   ],
   "source": [
    "a"
   ]
  },
  {
   "cell_type": "code",
   "execution_count": 139,
   "metadata": {},
   "outputs": [
    {
     "data": {
      "text/plain": [
       "'kkkkkkkkkEEEEEEEEEEEEEEEEESSSSSSSSSSeeeeeeeeeeeeeAAAAAAAAAAAANNNNNNNNNNNNNNNNDDDDDDDDDDDDDDDDDDDDvvvvvvvvvvvvvvvvrrrrrrrrrrrrrrrrrrrrCCCCCCCCCCCCBBBBBBBBBBBBiiiiiiiiiiiiiiiiiiigIIIIIIIIIIIIIDDDDDDDDDDDDDDFFFFFFFFFFFFAAAAAAAcccccccccccccccccccppppppppppppppwwwIIIIIIIIIIIIIIIIIIIyyyytttttttttooooooooooooooooooopppppppppppWWWWWWWWWaaaaaaarrrrrrrrrrrrrrrJJJJJttzzzzzzzzzzzKKKKKKKKKKKWWWWWjjjjjiiiiiiiiiiiiiiiibbbFFFFFFFFFFFFFFFkkkkEEEEEEEEEEEEEEEEEVVVVVVVVVVasHHHHHHHHHHwwwwwwwwwwwwUUUUUUUUPPPPPPPPPPPPPPPPPPPP'"
      ]
     },
     "execution_count": 139,
     "metadata": {},
     "output_type": "execute_result"
    }
   ],
   "source": [
    "b"
   ]
  },
  {
   "cell_type": "code",
   "execution_count": null,
   "metadata": {},
   "outputs": [],
   "source": [
    "with open('dataset_3363_2.txt', 'r') as f:\n",
    "    s = f.readline().strip()\n",
    "i = 0\n",
    "while i < len(s):\n",
    "    j = i + 1\n",
    "    while j < len(s) and s[j].isdigit():\n",
    "        j += 1\n",
    "    print(s[i] * int(s[i+1:j]), end='')\n",
    "    i = j"
   ]
  },
  {
   "cell_type": "code",
   "execution_count": null,
   "metadata": {},
   "outputs": [],
   "source": []
  },
  {
   "cell_type": "code",
   "execution_count": 20,
   "metadata": {},
   "outputs": [],
   "source": [
    "d = dict()\n",
    "f = open('dataset_3363_3.txt', 'r')\n",
    "for line in f:\n",
    "    for word in line.lower().split():\n",
    "        d[word] = d.get(word, 0) + 1\n",
    "f.close()\n",
    "mx = 0\n",
    "d2 = dict()\n",
    "for i in d:\n",
    "    if int(d[i]) > mx:\n",
    "        mx = int(d[i])\n",
    "for j in d:\n",
    "    if int(d[j]) == mx:\n",
    "        d2[j] = mx\n",
    "f2 = open('output2.txt', 'w')\n",
    "for x in sorted(d2):\n",
    "    print(x, d2[x], file=f2)\n",
    "    break\n",
    "f2.close()"
   ]
  },
  {
   "cell_type": "code",
   "execution_count": 18,
   "metadata": {},
   "outputs": [
    {
     "data": {
      "text/plain": [
       "10"
      ]
     },
     "execution_count": 18,
     "metadata": {},
     "output_type": "execute_result"
    }
   ],
   "source": [
    "mx"
   ]
  },
  {
   "cell_type": "code",
   "execution_count": 19,
   "metadata": {},
   "outputs": [
    {
     "data": {
      "text/plain": [
       "{'y': 10}"
      ]
     },
     "execution_count": 19,
     "metadata": {},
     "output_type": "execute_result"
    }
   ],
   "source": [
    "d2"
   ]
  },
  {
   "cell_type": "code",
   "execution_count": null,
   "metadata": {},
   "outputs": [],
   "source": [
    "with open('words.txt') as f:\n",
    "    text = f.read().lower().split()\n",
    "popular_word = max(set(text), key=text.count)\n",
    "print(popular_word, text.count(popular_word))"
   ]
  },
  {
   "cell_type": "code",
   "execution_count": null,
   "metadata": {},
   "outputs": [],
   "source": [
    "d = {}\n",
    "with open(\"input.txt\") as inp:\n",
    "  for line in inp:\n",
    "    for word in line.lower().split():\n",
    "      if word in d:\n",
    "        d[word] += 1\n",
    "      else:\n",
    "        d[word] = 1\n",
    "\n",
    "maxword, count = \"\", 0\n",
    "for word in d:\n",
    "  if d[word] > count or d[word] == count and word < maxword:\n",
    "    maxword, count = word, d[word]\n",
    "\n",
    "with open(\"output.txt\", \"w\") as out:\n",
    "  out.write(maxword + \" \" + str(count) + \"\\n\")"
   ]
  },
  {
   "cell_type": "code",
   "execution_count": null,
   "metadata": {},
   "outputs": [],
   "source": []
  },
  {
   "cell_type": "code",
   "execution_count": null,
   "metadata": {},
   "outputs": [],
   "source": []
  },
  {
   "cell_type": "code",
   "execution_count": 30,
   "metadata": {},
   "outputs": [],
   "source": [
    "f = open('dataset_3363_4.txt', 'r')\n",
    "fout = open('output3.txt', 'w')\n",
    "temp = {1: 0, 2: 0, 3: 0}\n",
    "k = 0\n",
    "for line in f:\n",
    "    a = line.strip().split(';')\n",
    "    print((int(a[1]) + int(a[2]) + int(a[3]))/3, file=fout)\n",
    "    temp[1] += int(a[1])\n",
    "    temp[2] += int(a[2])\n",
    "    temp[3] += int(a[3])\n",
    "    k += 1\n",
    "\n",
    "print(temp[1]/k, temp[2]/k, temp[3]/k, file=fout)\n",
    "f.close()\n",
    "fout.close()"
   ]
  },
  {
   "cell_type": "code",
   "execution_count": 25,
   "metadata": {},
   "outputs": [
    {
     "data": {
      "text/plain": [
       "['Fraser', '76', '66', '46']"
      ]
     },
     "execution_count": 25,
     "metadata": {},
     "output_type": "execute_result"
    }
   ],
   "source": [
    "a"
   ]
  },
  {
   "cell_type": "code",
   "execution_count": null,
   "metadata": {},
   "outputs": [],
   "source": [
    "st = [x.split(';') for x in open('fl.txt').readlines()]\n",
    "print(*[sum([int(y) for y in x[1:]])/3 for x in st], sep='\\n')\n",
    "print(*[sum([int(y) for y in [st[x][z] for x in range(len(st))]])/len(st) for z in range(1,4)])"
   ]
  },
  {
   "cell_type": "code",
   "execution_count": null,
   "metadata": {},
   "outputs": [],
   "source": [
    "s = [0, 0, 0]\n",
    "n = 0\n",
    "with open('111.txt') as f:\n",
    "    for line in f:\n",
    "        m = list(map(int, line.strip().split(';')[1:]))\n",
    "        print(sum(m)/3)\n",
    "        for i in 0, 1, 2: s[i] += m[i]\n",
    "        n += 1\n",
    "    print(s[0]/n, s[1]/n, s[2]/n)"
   ]
  },
  {
   "cell_type": "code",
   "execution_count": null,
   "metadata": {},
   "outputs": [],
   "source": []
  },
  {
   "cell_type": "code",
   "execution_count": 32,
   "metadata": {},
   "outputs": [
    {
     "name": "stdin",
     "output_type": "stream",
     "text": [
      " 10\n"
     ]
    },
    {
     "name": "stdout",
     "output_type": "stream",
     "text": [
      "62.83185307179586\n"
     ]
    }
   ],
   "source": [
    "import math\n",
    "print(float(input()) * 2 * math.pi)"
   ]
  },
  {
   "cell_type": "code",
   "execution_count": null,
   "metadata": {},
   "outputs": [],
   "source": []
  },
  {
   "cell_type": "code",
   "execution_count": 34,
   "metadata": {},
   "outputs": [
    {
     "name": "stdout",
     "output_type": "stream",
     "text": [
      "C:\\ProgramData\\Anaconda3\\lib\\site-packages\\ipykernel_launcher.py\n",
      "-f\n",
      "C:\\Users\\Ssmykov\\AppData\\Roaming\\jupyter\\runtime\\kernel-5a4ca8b2-fac4-433e-adc7-1ee232639f41.json\n"
     ]
    }
   ],
   "source": [
    "import sys\n",
    "for i in sys.argv[1:]:\n",
    "    print(i, end=' ')\n"
   ]
  },
  {
   "cell_type": "code",
   "execution_count": 35,
   "metadata": {},
   "outputs": [
    {
     "name": "stdout",
     "output_type": "stream",
     "text": [
      "-f C:\\Users\\Ssmykov\\AppData\\Roaming\\jupyter\\runtime\\kernel-5a4ca8b2-fac4-433e-adc7-1ee232639f41.json\n"
     ]
    }
   ],
   "source": [
    "print(*sys.argv[1:])"
   ]
  },
  {
   "cell_type": "code",
   "execution_count": null,
   "metadata": {},
   "outputs": [],
   "source": [
    "print(*__import__(\"sys\").argv[1:])"
   ]
  },
  {
   "cell_type": "code",
   "execution_count": null,
   "metadata": {},
   "outputs": [],
   "source": []
  },
  {
   "cell_type": "code",
   "execution_count": 36,
   "metadata": {},
   "outputs": [],
   "source": [
    "import requests"
   ]
  },
  {
   "cell_type": "code",
   "execution_count": 47,
   "metadata": {},
   "outputs": [
    {
     "name": "stdout",
     "output_type": "stream",
     "text": [
      "32\n"
     ]
    }
   ],
   "source": [
    "f = open('dataset_3378_2.txt', 'r')\n",
    "a = f.readline().strip()\n",
    "r = requests.get(a)\n",
    "#print(r.text)\n",
    "k = 0\n",
    "b = r.text.splitlines()\n",
    "for line in b:\n",
    "    k += 1\n",
    "print(k)\n",
    "f.close()"
   ]
  },
  {
   "cell_type": "code",
   "execution_count": 49,
   "metadata": {},
   "outputs": [],
   "source": [
    "#b"
   ]
  },
  {
   "cell_type": "code",
   "execution_count": null,
   "metadata": {},
   "outputs": [],
   "source": [
    "import requests\n",
    "\n",
    "with open('dataset_3378_2.txt') as inf:\n",
    "    r = requests.get(inf.readline().strip())\n",
    "    print(len(r.text.splitlines()))"
   ]
  },
  {
   "cell_type": "code",
   "execution_count": null,
   "metadata": {},
   "outputs": [],
   "source": []
  },
  {
   "cell_type": "code",
   "execution_count": 54,
   "metadata": {},
   "outputs": [],
   "source": [
    "url = 'https://stepic.org/media/attachments/course67/3.6.3/'\n",
    "f = open('dataset_3378_3.txt', 'r')\n",
    "a = f.readline().strip()\n",
    "f.close()\n",
    "while True:\n",
    "    r = requests.get(a)\n",
    "    #print(r.text)\n",
    "    if r.text[0] == 'W':\n",
    "        break\n",
    "    a = url + r.text.strip()\n",
    "    #print(a)\n",
    "#print(r.text)"
   ]
  },
  {
   "cell_type": "code",
   "execution_count": 55,
   "metadata": {},
   "outputs": [],
   "source": [
    "fout = open('output_4.txt', 'w')\n",
    "print(r.text, file=fout)\n",
    "fout.close()"
   ]
  },
  {
   "cell_type": "code",
   "execution_count": 56,
   "metadata": {},
   "outputs": [
    {
     "name": "stdout",
     "output_type": "stream",
     "text": [
      "We are the champions, my friends,\n",
      "And we'll keep on fighting 'til the end.\n",
      "We are the champions.\n",
      "We are the champions.\n",
      "No time for losers\n",
      "'Cause we are the champions of the world.\n"
     ]
    }
   ],
   "source": [
    "print(r.text)"
   ]
  },
  {
   "cell_type": "code",
   "execution_count": null,
   "metadata": {},
   "outputs": [],
   "source": [
    "url = \"https://stepic.org/media/attachments/course67/3.6.3/\"\n",
    "r = requests.get(url + \"699991.txt\")\n",
    "while not r.text.startswith(\"We\"):\n",
    "    r = requests.get(url + r.text)\n",
    "    print(r.text)\n",
    "print(r.text)"
   ]
  },
  {
   "cell_type": "code",
   "execution_count": null,
   "metadata": {},
   "outputs": [],
   "source": [
    "import requests\n",
    "url, name = 'https://stepic.org/media/attachments/course67/3.6.3/', '699991.txt'\n",
    "while name[:2] != 'We':\n",
    "    name = requests.get(url + name).text\n",
    "print(name)"
   ]
  },
  {
   "cell_type": "code",
   "execution_count": null,
   "metadata": {},
   "outputs": [],
   "source": []
  },
  {
   "cell_type": "code",
   "execution_count": null,
   "metadata": {},
   "outputs": [],
   "source": []
  },
  {
   "cell_type": "code",
   "execution_count": 78,
   "metadata": {},
   "outputs": [
    {
     "name": "stdin",
     "output_type": "stream",
     "text": [
      " 3\n",
      " Зенит;3;Спартак;1\n",
      " Спартак;1;ЦСКА;1\n",
      " ЦСКА;0;Зенит;2\n"
     ]
    },
    {
     "name": "stdout",
     "output_type": "stream",
     "text": [
      "Зенит: 2 2 0 0 6\n",
      "Спартак: 2 0 1 1 1\n",
      "ЦСКА: 2 0 1 1 1\n"
     ]
    }
   ],
   "source": [
    "d = dict()\n",
    "for i in range(int(input())):\n",
    "    temp = input().split(';')\n",
    "    d[temp[0]] = d.get(temp[0], [0, 0, 0, 0, 0])\n",
    "    d[temp[2]] = d.get(temp[2], [0, 0, 0, 0, 0])\n",
    "    if int(temp[1]) > int(temp[3]):\n",
    "        d[temp[0]][1] += 1\n",
    "        d[temp[0]][4] += 3\n",
    "        d[temp[2]][3] += 1\n",
    "    elif int(temp[1]) < int(temp[3]):\n",
    "        d[temp[2]][1] += 1\n",
    "        d[temp[0]][3] += 1\n",
    "        d[temp[2]][4] += 3\n",
    "    else:\n",
    "        d[temp[0]][2] += 1\n",
    "        d[temp[2]][2] += 1\n",
    "        d[temp[0]][4] += 1\n",
    "        d[temp[2]][4] += 1\n",
    "    d[temp[0]][0] += 1\n",
    "    d[temp[2]][0] += 1\n",
    "for i in d:\n",
    "    print(i + ':', *d[i])\n",
    "    "
   ]
  },
  {
   "cell_type": "code",
   "execution_count": 73,
   "metadata": {},
   "outputs": [
    {
     "data": {
      "text/plain": [
       "{'Зенит': [2, 1, 0, 1, 0], 'Спартак': [2, 1, 0, 1, 0]}"
      ]
     },
     "execution_count": 73,
     "metadata": {},
     "output_type": "execute_result"
    }
   ],
   "source": [
    "d"
   ]
  },
  {
   "cell_type": "code",
   "execution_count": null,
   "metadata": {},
   "outputs": [],
   "source": [
    "a=[input().split(';') for i in range(int(input()))]\n",
    "b={i:[] for i in set([i[0] for i in a])|set([i[2] for i in a])}\n",
    "for i in a:\n",
    "\tb[i[0]].append(1 if i[1]==i[3] else 3 if i[1]>i[3] else 0)\n",
    "\tb[i[2]].append(1 if i[1]==i[3] else 3 if i[1]<i[3] else 0)\n",
    "for i in b: print('%s:%i %i %i %i %i'%(i,len(b[i]),b[i].count(3),b[i].count(1),b[i].count(0),sum(b[i])))"
   ]
  },
  {
   "cell_type": "code",
   "execution_count": null,
   "metadata": {},
   "outputs": [],
   "source": []
  },
  {
   "cell_type": "code",
   "execution_count": 82,
   "metadata": {},
   "outputs": [
    {
     "name": "stdin",
     "output_type": "stream",
     "text": [
      " abcd\n",
      " *d%#\n",
      " abacabadaba\n",
      " #*%*d*%\n"
     ]
    },
    {
     "name": "stdout",
     "output_type": "stream",
     "text": [
      "*d*%*d*#*d*\n",
      "daca#ac"
     ]
    }
   ],
   "source": [
    "a = input()\n",
    "b = input()\n",
    "d = dict()\n",
    "d2 = dict()\n",
    "for i in range(len(a)):\n",
    "    d[a[i]] = b[i]\n",
    "    d2[b[i]] = a[i]\n",
    "c = input()\n",
    "e = input()\n",
    "for j in range(len(c)):\n",
    "    print(d[c[j]], end='')\n",
    "print()\n",
    "for j in range(len(e)):\n",
    "    print(d2[e[j]], end='')\n"
   ]
  },
  {
   "cell_type": "code",
   "execution_count": 81,
   "metadata": {},
   "outputs": [
    {
     "data": {
      "text/plain": [
       "{'a': '*', '*': 'a', 'b': 'd', 'd': '#', 'c': '%', '%': 'c', '#': 'd'}"
      ]
     },
     "execution_count": 81,
     "metadata": {},
     "output_type": "execute_result"
    }
   ],
   "source": [
    "d"
   ]
  },
  {
   "cell_type": "code",
   "execution_count": null,
   "metadata": {},
   "outputs": [],
   "source": [
    "a,b,c,d=input(),input(),input(),input()\n",
    "print(''.join(b[a.index(i)] for i in c))\n",
    "print(''.join(a[b.index(i)] for i in d))"
   ]
  },
  {
   "cell_type": "code",
   "execution_count": null,
   "metadata": {},
   "outputs": [],
   "source": [
    "a, b, c, d = (input() for i in range(4))\n",
    "print(  ''.join(dict(zip(a, b))[i] for i in c), '\\n', \n",
    "        ''.join(dict(zip(b, a))[i] for i in d)\n",
    "     )"
   ]
  },
  {
   "cell_type": "code",
   "execution_count": null,
   "metadata": {},
   "outputs": [],
   "source": [
    "alph,ciph,to_ciph,to_deciph = input(),input(),input(),input()\n",
    "print(to_ciph.translate(str.maketrans(alph, ciph)),\"\\n\",to_deciph.translate(str.maketrans(ciph,alph)))"
   ]
  },
  {
   "cell_type": "code",
   "execution_count": null,
   "metadata": {},
   "outputs": [],
   "source": []
  },
  {
   "cell_type": "code",
   "execution_count": 89,
   "metadata": {},
   "outputs": [
    {
     "name": "stdin",
     "output_type": "stream",
     "text": [
      " 1\n",
      " a\n",
      " 2\n",
      " vvv\n",
      " sdf \n"
     ]
    },
    {
     "name": "stdout",
     "output_type": "stream",
     "text": [
      "vvv\n",
      "sdf\n"
     ]
    }
   ],
   "source": [
    "d = set()\n",
    "ans = set()\n",
    "for i in range(int(input())):\n",
    "    d.add(input().lower())\n",
    "for j in range(int(input())):\n",
    "    temp = input().lower().split()\n",
    "    for word in temp:\n",
    "        if word not in d:\n",
    "            ans.add(word)\n",
    "for x in ans:\n",
    "    print(x)\n"
   ]
  },
  {
   "cell_type": "code",
   "execution_count": null,
   "metadata": {},
   "outputs": [],
   "source": [
    "correct_set = {input().lower() for i in range(int(input()))}\n",
    "incorrect_set = {j for i in range(int(input())) for j in input().lower().split(' ')}\n",
    "print('\\n'.join(incorrect_set - correct_set))"
   ]
  },
  {
   "cell_type": "code",
   "execution_count": null,
   "metadata": {},
   "outputs": [],
   "source": [
    "d = [input().lower() for x in range(int(input()))]\n",
    "[print(x) for x in set([i for s in [input().lower().split() for x in range(int(input()))] for i in s]).difference(d)]"
   ]
  },
  {
   "cell_type": "code",
   "execution_count": null,
   "metadata": {},
   "outputs": [],
   "source": []
  },
  {
   "cell_type": "code",
   "execution_count": null,
   "metadata": {},
   "outputs": [],
   "source": [
    "coor = [0, 0]\n",
    "for i in range(int(input())):\n",
    "    temp = input().split()\n",
    "    if temp[0] == 'север':\n",
    "        coor[1] += int(temp[1])\n",
    "    elif temp[0] == 'запад':\n",
    "        coor[0] -= int(temp[1])\n",
    "    elif temp[0] == 'юг':\n",
    "        coor[1] -= int(temp[1])\n",
    "    else:\n",
    "        coor[0] += int(temp[1])\n",
    "print(*coor)\n"
   ]
  },
  {
   "cell_type": "code",
   "execution_count": null,
   "metadata": {},
   "outputs": [],
   "source": [
    "x,y = 0,0\n",
    "compas = {\"север\":'y+=',\"восток\":'x+=',\"запад\":'x-=',\"юг\":'y-='}\n",
    "for i in range(int(input())):\n",
    "\tz = input().split()\n",
    "\texec(\"\"+compas[z[0]]+z[1])\n",
    "print(x,y)\n"
   ]
  },
  {
   "cell_type": "code",
   "execution_count": null,
   "metadata": {},
   "outputs": [],
   "source": []
  },
  {
   "cell_type": "code",
   "execution_count": 105,
   "metadata": {},
   "outputs": [],
   "source": [
    "f = open('dataset_3380_5.txt', 'r')\n",
    "d = {1: 0, 2: 0, 3: 0, 4: 0, 5: 0,\n",
    "    6: 0, 7: 0, 8: 0, 9: 0, 10: 0, 11: 0}\n",
    "d2 = {1: 0, 2: 0, 3: 0, 4: 0, 5: 0,\n",
    "    6: 0, 7: 0, 8: 0, 9: 0, 10: 0, 11: 0}\n",
    "for line in f:\n",
    "    temp = line.split('\\t')\n",
    "    d[int(temp[0])] += int(temp[2])\n",
    "    d2[int(temp[0])] += 1\n",
    "\n",
    "f.close()\n",
    "f = open('final.txt', 'w')\n",
    "for i in sorted(d2):\n",
    "    if d2[i] == 0:\n",
    "        print(i, '-', file=f)\n",
    "    else:\n",
    "        print(i, d[i]/d2[i], file=f)\n",
    "\n",
    "f.close()\n"
   ]
  },
  {
   "cell_type": "code",
   "execution_count": null,
   "metadata": {},
   "outputs": [],
   "source": [
    "d = {i: [] for i in range(1,12)}\n",
    "with open(r'D:\\Новая папка\\dataset_3380_5.txt','r', encoding='utf-8') as f1:\n",
    "  for i in f1:\n",
    "    d[int(i.split()[0])].append(float(i.split()[2]))\n",
    "\n",
    "for i in range(1,12):\n",
    "  if d[i]:\n",
    "    print(i, sum(d[i])/len(d[i]))\n",
    "  else:\n",
    "    print(i, '-')"
   ]
  },
  {
   "cell_type": "code",
   "execution_count": null,
   "metadata": {},
   "outputs": [],
   "source": []
  },
  {
   "cell_type": "code",
   "execution_count": null,
   "metadata": {},
   "outputs": [],
   "source": []
  }
 ],
 "metadata": {
  "kernelspec": {
   "display_name": "Python 3",
   "language": "python",
   "name": "python3"
  },
  "language_info": {
   "codemirror_mode": {
    "name": "ipython",
    "version": 3
   },
   "file_extension": ".py",
   "mimetype": "text/x-python",
   "name": "python",
   "nbconvert_exporter": "python",
   "pygments_lexer": "ipython3",
   "version": "3.7.3"
  }
 },
 "nbformat": 4,
 "nbformat_minor": 2
}
